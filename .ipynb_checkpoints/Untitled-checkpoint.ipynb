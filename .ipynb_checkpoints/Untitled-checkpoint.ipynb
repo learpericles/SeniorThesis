{
 "cells": [
  {
   "cell_type": "code",
   "execution_count": null,
   "metadata": {},
   "outputs": [
    {
     "name": "stderr",
     "output_type": "stream",
     "text": [
      "/home/maxim/MachineLearning/lib/python3.6/importlib/_bootstrap.py:219: RuntimeWarning: compiletime version 3.5 of module 'tensorflow.python.framework.fast_tensor_util' does not match runtime version 3.6\n",
      "  return f(*args, **kwds)\n",
      "Using TensorFlow backend.\n"
     ]
    }
   ],
   "source": [
    "from keras.layers.core import Dense, Activation, Dropout\n",
    "from keras.layers.recurrent import LSTM\n",
    "from keras.models import Sequential\n",
    "from keras.layers.convolutional import Conv1D\n",
    "from keras.layers.convolutional import MaxPooling1D\n",
    "import helper\n",
    "import time\n",
    "from sklearn.metrics import mean_squared_error\n",
    "import numpy as np\n",
    "import pandas as pd\n"
   ]
  },
  {
   "cell_type": "code",
   "execution_count": null,
   "metadata": {},
   "outputs": [],
   "source": [
    "# Load Data\n",
    "seq_len = 50\n",
    "norm_win = True\n",
    "filename = 'PctChangingPrice.csv'\n",
    "X_tr, Y_tr, X_te, Y_te = helper.load_data(filename, seq_len, norm_win)\n",
    "# Model Build\n",
    "model = Sequential()\n",
    "model.add(LSTM(input_dim=1,\n",
    "               output_dim=seq_len,\n",
    "               return_sequences=True))\n",
    "model.add(Dropout(0.2))\n",
    "model.add(Conv1D(filters=32, kernel_size=3, padding='same', activation='relu'))\n",
    "model.add(MaxPooling1D(pool_size=2))\n",
    "model.add(LSTM(100,\n",
    "               return_sequences=False))\n",
    "model.add(Dropout(0.2))\n",
    "model.add(Dense(output_dim=1))  # Linear dense layer to aggregate into 1 val\n",
    "model.add(Activation('linear'))\n",
    "timer_start = time.time()\n",
    "model.compile(loss='mse', optimizer='rmsprop')\n",
    "print('Model built in: ', time.time()-timer_start)\n",
    "# Training model\n",
    "model.fit(X_tr,\n",
    "          Y_tr,\n",
    "          batch_size=512,\n",
    "          nb_epoch=200,\n",
    "          validation_split=0.05\n",
    "          )\n",
    "# Predictions\n",
    "win_size = seq_len\n",
    "pred_len = seq_len\n",
    "plot = False\n",
    "if plot:\n",
    "    pred = helper.predict_seq_mul(model, X_te, win_size, pred_len)\n",
    "    helper.plot_mul(pred, Y_te, pred_len)\n",
    "else:\n",
    "    pred = helper.predict_pt_pt(model, X_te)\n",
    "    mse_model = mean_squared_error(Y_te, pred)\n",
    "    print(\"MSE of DL model \", mse_model)\n",
    "    # Stupid Model\n",
    "    y_bar = np.mean(X_te, axis=1)\n",
    "    y_bar = np.reshape(y_bar, (y_bar.shape[0]))\n",
    "    mse_base = mean_squared_error(Y_te, y_bar)\n",
    "    print(\"MSE of y_bar Model\", mse_base)\n",
    "    # t-1 Model\n",
    "    y_t_1 = X_te[:, -1]\n",
    "    y_t_1 = np.reshape(y_t_1, (y_t_1.shape[0]))\n",
    "    mse_t_1 = mean_squared_error(Y_te, y_t_1)\n",
    "    print(\"MSE of t-1 Model\", mse_t_1)\n",
    "    # Comparisons\n",
    "    improv = (mse_model - mse_base)/mse_base\n",
    "    improv_t_1 = (mse_model - mse_t_1)/mse_t_1\n",
    "    print(\"%ge improvement over naive model\", improv)\n",
    "    print(\"%ge improvement over t-1 model\", improv_t_1)\n",
    "    corr_model = np.corrcoef(Y_te, pred)\n",
    "    corr_base = np.corrcoef(Y_te, y_bar)\n",
    "corr_t_1 = np.corrcoef(Y_te, y_t_1)\n",
    "    print(\"Correlation of y_bar \\n \", corr_base, \"\\n t-1 model \\n\", corr_t_1,\n",
    "\"\\n DL model\\n\", corr_model)"
   ]
  }
 ],
 "metadata": {
  "kernelspec": {
   "display_name": "Python 3",
   "language": "python",
   "name": "python3"
  },
  "language_info": {
   "codemirror_mode": {
    "name": "ipython",
    "version": 3
   },
   "file_extension": ".py",
   "mimetype": "text/x-python",
   "name": "python",
   "nbconvert_exporter": "python",
   "pygments_lexer": "ipython3",
   "version": "3.6.3"
  }
 },
 "nbformat": 4,
 "nbformat_minor": 2
}
